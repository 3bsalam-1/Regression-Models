{
 "cells": [
  {
   "cell_type": "markdown",
   "id": "72c038db-5aaa-4f4c-8684-7ffbdd101159",
   "metadata": {},
   "source": [
    "# Boston house price\n"
   ]
  },
  {
   "cell_type": "markdown",
   "id": "1585f7bb-a231-49e6-8c80-f636f7c6fe9e",
   "metadata": {},
   "source": [
    "## 1 - Packages ##\n",
    "\n",
    "Let's first import all the packages that you will need during this assignment.\n",
    "- [tensorflow](https://www.tensorflow.org/) is the fundamental package for scientific computing with Python.\n",
    "- [sklearn](http://scikit-learn.org/stable/) provides simple and efficient tools for data mining and data analysis. \n",
    "- [matplotlib](http://matplotlib.org) is a library for plotting graphs in Python.\n",
    "- planar_utils provide various useful functions used in this assignment"
   ]
  },
  {
   "cell_type": "code",
   "execution_count": 1,
   "id": "198c723a-a407-4b10-b616-819095441d05",
   "metadata": {},
   "outputs": [],
   "source": [
    "# Import packages\n",
    "\n",
    "import pandas as pd\n",
    "import keras\n",
    "from tensorflow.keras import layers\n",
    "from tensorflow.keras.models import Sequential\n",
    "from tensorflow.keras.layers import Dense\n",
    "\n",
    "from sklearn.model_selection import train_test_split\n",
    "from sklearn.preprocessing import StandardScaler, MinMaxScaler\n",
    "from sklearn.metrics import r2_score"
   ]
  },
  {
   "cell_type": "markdown",
   "id": "488e25ba-5871-4057-a8df-791b91fac627",
   "metadata": {
    "tags": []
   },
   "source": [
    "---\n",
    "## 2 - Dataset ##\n",
    "\n",
    "The dataset describes 13 numerical properties of houses in Boston suburbs and is concerned with modeling the price of houses in those suburbs in thousands of dollars. As such, this is a regression predictive modeling problem. Input attributes include crime rate, the proportion of nonretail business acres, chemical concentrations, and more."
   ]
  },
  {
   "cell_type": "code",
   "execution_count": 83,
   "id": "0dfa44a9-f5a4-4b9b-b7d1-7f44f9b3078f",
   "metadata": {},
   "outputs": [
    {
     "name": "stdout",
     "output_type": "stream",
     "text": [
      "<class 'pandas.core.frame.DataFrame'>\n",
      "RangeIndex: 506 entries, 0 to 505\n",
      "Data columns (total 14 columns):\n",
      " #   Column  Non-Null Count  Dtype  \n",
      "---  ------  --------------  -----  \n",
      " 0   0       506 non-null    float64\n",
      " 1   1       506 non-null    float64\n",
      " 2   2       506 non-null    float64\n",
      " 3   3       506 non-null    int64  \n",
      " 4   4       506 non-null    float64\n",
      " 5   5       506 non-null    float64\n",
      " 6   6       506 non-null    float64\n",
      " 7   7       506 non-null    float64\n",
      " 8   8       506 non-null    int64  \n",
      " 9   9       506 non-null    float64\n",
      " 10  10      506 non-null    float64\n",
      " 11  11      506 non-null    float64\n",
      " 12  12      506 non-null    float64\n",
      " 13  13      506 non-null    float64\n",
      "dtypes: float64(12), int64(2)\n",
      "memory usage: 55.5 KB\n"
     ]
    }
   ],
   "source": [
    "# load dataset\n",
    "dataframe = pd.read_csv(\"housing.csv\", delim_whitespace=True, header=None)\n",
    "dataframe.info()\n"
   ]
  },
  {
   "cell_type": "markdown",
   "id": "e839e840-e14c-4807-85fa-f539dcb61684",
   "metadata": {},
   "source": [
    "**Let's transform it into a numpy array, to work with just numbers fed to the dataframe**"
   ]
  },
  {
   "cell_type": "code",
   "execution_count": 84,
   "id": "1e384fea-96ff-43c0-a8b1-c8fd72bf03ee",
   "metadata": {},
   "outputs": [],
   "source": [
    "dataset = dataframe.values\n",
    "# split into input (X) and output (Y) variables\n",
    "X = dataset[:,0:13]\n",
    "Y = dataset[:,13]"
   ]
  },
  {
   "cell_type": "code",
   "execution_count": 85,
   "id": "1c348a0c-d4bd-4284-95e4-b2e7c3e32df7",
   "metadata": {},
   "outputs": [
    {
     "name": "stdout",
     "output_type": "stream",
     "text": [
      "The shape of X is: (506, 13)\n",
      "The shape of Y is: (506,)\n",
      "I have m = 506 training examples!\n"
     ]
    }
   ],
   "source": [
    "shape_X = X.shape\n",
    "shape_Y = Y.shape\n",
    "m = shape_X[0]  # training set size\n",
    "\n",
    "print ('The shape of X is: ' + str(shape_X))\n",
    "print ('The shape of Y is: ' + str(shape_Y))\n",
    "print ('I have m = %d training examples!' % (m))"
   ]
  },
  {
   "cell_type": "markdown",
   "id": "99b8379e-fdb8-4b24-9dec-638162502053",
   "metadata": {},
   "source": [
    "**Split the data into train-test subsets**"
   ]
  },
  {
   "cell_type": "code",
   "execution_count": 86,
   "id": "cb8d7e03-7712-477f-8fbf-d1aae12863a1",
   "metadata": {},
   "outputs": [],
   "source": [
    "X_train, X_test, y_train, y_test = train_test_split(X, Y, test_size=0.2, random_state=42)"
   ]
  },
  {
   "cell_type": "markdown",
   "id": "1b70bcf8-c32e-4586-b397-0a4c3ad38588",
   "metadata": {
    "tags": []
   },
   "source": [
    "---\n",
    "## Build Basic model:\n",
    "\n",
    "**Note the differences from the classification layer**"
   ]
  },
  {
   "cell_type": "code",
   "execution_count": 87,
   "id": "6748185f-2e67-4c50-8479-c6530f7ce54f",
   "metadata": {},
   "outputs": [],
   "source": [
    "# create model\n",
    "model = Sequential()\n",
    "\n",
    "model.add(keras.Input(shape=(13)))\n",
    "model.add(Dense(units=13,activation='relu',name='dense_2'))\n",
    "model.add(Dense(units=1,name='dense_3'))"
   ]
  },
  {
   "cell_type": "code",
   "execution_count": 88,
   "id": "e4d3a42a-604b-4a8f-8fdf-398dba2bd7df",
   "metadata": {},
   "outputs": [
    {
     "name": "stdout",
     "output_type": "stream",
     "text": [
      "Model: \"sequential_8\"\n",
      "_________________________________________________________________\n",
      " Layer (type)                Output Shape              Param #   \n",
      "=================================================================\n",
      " dense_2 (Dense)             (None, 13)                182       \n",
      "                                                                 \n",
      " dense_3 (Dense)             (None, 1)                 14        \n",
      "                                                                 \n",
      "=================================================================\n",
      "Total params: 196 (784.00 Byte)\n",
      "Trainable params: 196 (784.00 Byte)\n",
      "Non-trainable params: 0 (0.00 Byte)\n",
      "_________________________________________________________________\n"
     ]
    }
   ],
   "source": [
    "model.summary()"
   ]
  },
  {
   "cell_type": "markdown",
   "id": "7f6f4b15-2c1f-4dc2-8f30-b20af8f6482c",
   "metadata": {},
   "source": [
    "## Another way of building the ANN"
   ]
  },
  {
   "cell_type": "code",
   "execution_count": 89,
   "id": "427144a1-8a01-4deb-83d6-0f474a032d5d",
   "metadata": {},
   "outputs": [],
   "source": [
    "# Build the model\n",
    "\n"
   ]
  },
  {
   "cell_type": "code",
   "execution_count": 90,
   "id": "fe1452d3-aac6-426e-a7cb-093c84ac2b5a",
   "metadata": {},
   "outputs": [
    {
     "name": "stdout",
     "output_type": "stream",
     "text": [
      "Model: \"sequential_8\"\n",
      "_________________________________________________________________\n",
      " Layer (type)                Output Shape              Param #   \n",
      "=================================================================\n",
      " dense_2 (Dense)             (None, 13)                182       \n",
      "                                                                 \n",
      " dense_3 (Dense)             (None, 1)                 14        \n",
      "                                                                 \n",
      "=================================================================\n",
      "Total params: 196 (784.00 Byte)\n",
      "Trainable params: 196 (784.00 Byte)\n",
      "Non-trainable params: 0 (0.00 Byte)\n",
      "_________________________________________________________________\n"
     ]
    }
   ],
   "source": [
    "model.summary()"
   ]
  },
  {
   "cell_type": "markdown",
   "id": "2aa9248e-c546-4796-9fa0-32c01e5208c0",
   "metadata": {},
   "source": [
    "## Now, Comile the model:"
   ]
  },
  {
   "cell_type": "code",
   "execution_count": 91,
   "id": "88656ccb-5f9c-4073-93ef-84d988765441",
   "metadata": {},
   "outputs": [],
   "source": [
    "model.compile(optimizer=keras.optimizers.Adam(learning_rate=0.03),loss = 'mean_absolute_error')"
   ]
  },
  {
   "cell_type": "markdown",
   "id": "0d882e5e-e9e7-4768-9c40-3cde6c7bab23",
   "metadata": {},
   "source": [
    "**Fit the model**"
   ]
  },
  {
   "cell_type": "code",
   "execution_count": 92,
   "id": "ea0cef67-60f2-4cba-afbf-ff1186e7f48c",
   "metadata": {},
   "outputs": [
    {
     "name": "stdout",
     "output_type": "stream",
     "text": [
      "Epoch 1/100\n"
     ]
    },
    {
     "name": "stdout",
     "output_type": "stream",
     "text": [
      "13/13 [==============================] - 9s 19ms/step - loss: 76.3269\n",
      "Epoch 2/100\n",
      "13/13 [==============================] - 0s 21ms/step - loss: 18.3412\n",
      "Epoch 3/100\n",
      "13/13 [==============================] - 0s 24ms/step - loss: 9.2100\n",
      "Epoch 4/100\n",
      "13/13 [==============================] - 0s 22ms/step - loss: 7.2615\n",
      "Epoch 5/100\n",
      "13/13 [==============================] - 0s 17ms/step - loss: 6.4488\n",
      "Epoch 6/100\n",
      "13/13 [==============================] - 0s 18ms/step - loss: 6.2813\n",
      "Epoch 7/100\n",
      "13/13 [==============================] - 0s 20ms/step - loss: 6.1027\n",
      "Epoch 8/100\n",
      "13/13 [==============================] - 0s 19ms/step - loss: 5.8916\n",
      "Epoch 9/100\n",
      "13/13 [==============================] - 0s 21ms/step - loss: 5.1517\n",
      "Epoch 10/100\n",
      "13/13 [==============================] - 0s 13ms/step - loss: 5.4338\n",
      "Epoch 11/100\n",
      "13/13 [==============================] - 0s 25ms/step - loss: 5.3998\n",
      "Epoch 12/100\n",
      "13/13 [==============================] - 0s 18ms/step - loss: 5.2229\n",
      "Epoch 13/100\n",
      "13/13 [==============================] - 0s 25ms/step - loss: 5.0294\n",
      "Epoch 14/100\n",
      "13/13 [==============================] - 0s 24ms/step - loss: 5.0360\n",
      "Epoch 15/100\n",
      "13/13 [==============================] - 0s 22ms/step - loss: 4.8507\n",
      "Epoch 16/100\n",
      "13/13 [==============================] - 0s 29ms/step - loss: 4.8704\n",
      "Epoch 17/100\n",
      "13/13 [==============================] - 0s 22ms/step - loss: 5.3642\n",
      "Epoch 18/100\n",
      "13/13 [==============================] - 0s 25ms/step - loss: 4.8247\n",
      "Epoch 19/100\n",
      "13/13 [==============================] - 0s 19ms/step - loss: 4.9131\n",
      "Epoch 20/100\n",
      "13/13 [==============================] - 0s 21ms/step - loss: 5.1754\n",
      "Epoch 21/100\n",
      "13/13 [==============================] - 0s 19ms/step - loss: 5.1882\n",
      "Epoch 22/100\n",
      "13/13 [==============================] - 0s 18ms/step - loss: 4.6943\n",
      "Epoch 23/100\n",
      "13/13 [==============================] - 0s 31ms/step - loss: 4.5643\n",
      "Epoch 24/100\n",
      "13/13 [==============================] - 0s 28ms/step - loss: 5.1804\n",
      "Epoch 25/100\n",
      "13/13 [==============================] - 0s 20ms/step - loss: 4.9989\n",
      "Epoch 26/100\n",
      "13/13 [==============================] - 0s 28ms/step - loss: 5.4364\n",
      "Epoch 27/100\n",
      "13/13 [==============================] - 0s 21ms/step - loss: 4.9306\n",
      "Epoch 28/100\n",
      "13/13 [==============================] - 0s 16ms/step - loss: 4.5775\n",
      "Epoch 29/100\n",
      "13/13 [==============================] - 0s 25ms/step - loss: 4.6533\n",
      "Epoch 30/100\n",
      "13/13 [==============================] - 0s 27ms/step - loss: 4.4372\n",
      "Epoch 31/100\n",
      "13/13 [==============================] - 0s 33ms/step - loss: 4.4972\n",
      "Epoch 32/100\n",
      "13/13 [==============================] - 0s 20ms/step - loss: 4.4825\n",
      "Epoch 33/100\n",
      "13/13 [==============================] - 0s 27ms/step - loss: 4.6446\n",
      "Epoch 34/100\n",
      "13/13 [==============================] - 0s 19ms/step - loss: 4.6222\n",
      "Epoch 35/100\n",
      "13/13 [==============================] - 0s 35ms/step - loss: 4.3458\n",
      "Epoch 36/100\n",
      "13/13 [==============================] - 0s 34ms/step - loss: 4.6848\n",
      "Epoch 37/100\n",
      "13/13 [==============================] - 0s 25ms/step - loss: 4.3948\n",
      "Epoch 38/100\n",
      "13/13 [==============================] - 0s 26ms/step - loss: 4.5780\n",
      "Epoch 39/100\n",
      "13/13 [==============================] - 0s 30ms/step - loss: 4.7524\n",
      "Epoch 40/100\n",
      "13/13 [==============================] - 0s 24ms/step - loss: 4.5753\n",
      "Epoch 41/100\n",
      "13/13 [==============================] - 0s 25ms/step - loss: 4.7205\n",
      "Epoch 42/100\n",
      "13/13 [==============================] - 0s 27ms/step - loss: 4.6671\n",
      "Epoch 43/100\n",
      "13/13 [==============================] - 0s 16ms/step - loss: 4.6998\n",
      "Epoch 44/100\n",
      "13/13 [==============================] - 0s 16ms/step - loss: 4.2533\n",
      "Epoch 45/100\n",
      "13/13 [==============================] - 0s 25ms/step - loss: 4.2726\n",
      "Epoch 46/100\n",
      "13/13 [==============================] - 0s 20ms/step - loss: 4.2150\n",
      "Epoch 47/100\n",
      "13/13 [==============================] - 1s 86ms/step - loss: 3.9972\n",
      "Epoch 48/100\n",
      "13/13 [==============================] - 2s 138ms/step - loss: 4.0947\n",
      "Epoch 49/100\n",
      "13/13 [==============================] - 0s 30ms/step - loss: 4.2639\n",
      "Epoch 50/100\n",
      "13/13 [==============================] - 1s 47ms/step - loss: 4.2457\n",
      "Epoch 51/100\n",
      "13/13 [==============================] - 0s 22ms/step - loss: 4.3596\n",
      "Epoch 52/100\n",
      "13/13 [==============================] - 0s 18ms/step - loss: 4.6127\n",
      "Epoch 53/100\n",
      "13/13 [==============================] - 0s 21ms/step - loss: 5.0206\n",
      "Epoch 54/100\n",
      "13/13 [==============================] - 0s 22ms/step - loss: 4.0673\n",
      "Epoch 55/100\n",
      "13/13 [==============================] - 1s 53ms/step - loss: 4.2579\n",
      "Epoch 56/100\n",
      "13/13 [==============================] - 1s 54ms/step - loss: 3.9227\n",
      "Epoch 57/100\n",
      "13/13 [==============================] - 2s 152ms/step - loss: 4.2087\n",
      "Epoch 58/100\n",
      "13/13 [==============================] - 1s 33ms/step - loss: 4.1115\n",
      "Epoch 59/100\n",
      "13/13 [==============================] - 1s 44ms/step - loss: 3.8630\n",
      "Epoch 60/100\n",
      "13/13 [==============================] - 1s 80ms/step - loss: 3.6794\n",
      "Epoch 61/100\n",
      "13/13 [==============================] - 1s 32ms/step - loss: 3.7636\n",
      "Epoch 62/100\n",
      "13/13 [==============================] - 0s 34ms/step - loss: 3.9723\n",
      "Epoch 63/100\n",
      "13/13 [==============================] - 0s 16ms/step - loss: 4.1305\n",
      "Epoch 64/100\n",
      "13/13 [==============================] - 0s 24ms/step - loss: 3.8711\n",
      "Epoch 65/100\n",
      "13/13 [==============================] - 0s 25ms/step - loss: 4.2294\n",
      "Epoch 66/100\n",
      "13/13 [==============================] - 0s 22ms/step - loss: 4.4089\n",
      "Epoch 67/100\n",
      "13/13 [==============================] - 0s 21ms/step - loss: 4.8753\n",
      "Epoch 68/100\n",
      "13/13 [==============================] - 0s 21ms/step - loss: 4.4298\n",
      "Epoch 69/100\n",
      "13/13 [==============================] - 0s 21ms/step - loss: 4.2624\n",
      "Epoch 70/100\n",
      "13/13 [==============================] - 1s 43ms/step - loss: 4.0694\n",
      "Epoch 71/100\n",
      "13/13 [==============================] - 0s 26ms/step - loss: 4.3996\n",
      "Epoch 72/100\n",
      "13/13 [==============================] - 1s 107ms/step - loss: 4.1240\n",
      "Epoch 73/100\n",
      "13/13 [==============================] - 1s 83ms/step - loss: 4.4772\n",
      "Epoch 74/100\n",
      "13/13 [==============================] - 1s 44ms/step - loss: 4.5656\n",
      "Epoch 75/100\n",
      "13/13 [==============================] - 1s 64ms/step - loss: 4.4492\n",
      "Epoch 76/100\n",
      "13/13 [==============================] - 0s 20ms/step - loss: 4.5945\n",
      "Epoch 77/100\n",
      "13/13 [==============================] - 0s 25ms/step - loss: 4.8898\n",
      "Epoch 78/100\n",
      "13/13 [==============================] - 0s 31ms/step - loss: 4.6336\n",
      "Epoch 79/100\n",
      "13/13 [==============================] - 1s 53ms/step - loss: 4.3366\n",
      "Epoch 80/100\n",
      "13/13 [==============================] - 1s 46ms/step - loss: 4.8663\n",
      "Epoch 81/100\n",
      "13/13 [==============================] - 0s 24ms/step - loss: 3.9723\n",
      "Epoch 82/100\n",
      "13/13 [==============================] - 0s 25ms/step - loss: 4.0426\n",
      "Epoch 83/100\n",
      "13/13 [==============================] - 0s 20ms/step - loss: 3.9558\n",
      "Epoch 84/100\n",
      "13/13 [==============================] - 0s 15ms/step - loss: 4.3126\n",
      "Epoch 85/100\n",
      "13/13 [==============================] - 1s 113ms/step - loss: 4.0424\n",
      "Epoch 86/100\n",
      "13/13 [==============================] - 0s 32ms/step - loss: 4.1398\n",
      "Epoch 87/100\n",
      "13/13 [==============================] - 1s 43ms/step - loss: 4.7137\n",
      "Epoch 88/100\n",
      "13/13 [==============================] - 1s 75ms/step - loss: 4.3667\n",
      "Epoch 89/100\n",
      "13/13 [==============================] - 0s 18ms/step - loss: 4.3810\n",
      "Epoch 90/100\n",
      "13/13 [==============================] - 0s 16ms/step - loss: 4.2370\n",
      "Epoch 91/100\n",
      "13/13 [==============================] - 0s 12ms/step - loss: 4.4343\n",
      "Epoch 92/100\n",
      "13/13 [==============================] - 0s 15ms/step - loss: 4.2433\n",
      "Epoch 93/100\n",
      "13/13 [==============================] - 0s 28ms/step - loss: 4.0862\n",
      "Epoch 94/100\n",
      "13/13 [==============================] - 0s 21ms/step - loss: 3.9716\n",
      "Epoch 95/100\n",
      "13/13 [==============================] - 0s 18ms/step - loss: 3.9593\n",
      "Epoch 96/100\n",
      "13/13 [==============================] - 0s 27ms/step - loss: 5.2490\n",
      "Epoch 97/100\n",
      "13/13 [==============================] - 0s 35ms/step - loss: 4.2610\n",
      "Epoch 98/100\n",
      "13/13 [==============================] - 0s 30ms/step - loss: 3.8994\n",
      "Epoch 99/100\n",
      "13/13 [==============================] - 0s 25ms/step - loss: 4.3006\n",
      "Epoch 100/100\n",
      "13/13 [==============================] - 0s 38ms/step - loss: 4.1472\n"
     ]
    },
    {
     "data": {
      "text/plain": [
       "<keras.src.callbacks.History at 0x250cfc38ed0>"
      ]
     },
     "execution_count": 92,
     "metadata": {},
     "output_type": "execute_result"
    }
   ],
   "source": [
    "# model.fit(x_train, y_train, batch_size=32, epochs=5, verbose=1)\n",
    "model.fit(X_train, y_train, batch_size=32, epochs=100, verbose=1)"
   ]
  },
  {
   "cell_type": "markdown",
   "id": "17f22f43-6a00-430d-ace4-1e83f2146eb7",
   "metadata": {},
   "source": [
    "**Print model evaluation**"
   ]
  },
  {
   "cell_type": "code",
   "execution_count": 93,
   "id": "e43b33f2-8b39-4685-9468-bd2fdd7f008c",
   "metadata": {},
   "outputs": [
    {
     "name": "stdout",
     "output_type": "stream",
     "text": [
      "13/13 [==============================] - 5s 21ms/step - loss: 3.7983\n"
     ]
    },
    {
     "data": {
      "text/plain": [
       "3.7982616424560547"
      ]
     },
     "execution_count": 93,
     "metadata": {},
     "output_type": "execute_result"
    }
   ],
   "source": [
    "model.evaluate(X_train, y_train, batch_size=32, verbose=1)\n"
   ]
  },
  {
   "cell_type": "markdown",
   "id": "00198183-23b2-4e05-a6b3-24bba47ce8b3",
   "metadata": {},
   "source": [
    "**Calculate the R-Squared score for the model**"
   ]
  },
  {
   "cell_type": "code",
   "execution_count": 94,
   "id": "4f332b01-9f6d-465f-8401-9df7d737723c",
   "metadata": {},
   "outputs": [
    {
     "name": "stdout",
     "output_type": "stream",
     "text": [
      "4/4 [==============================] - 1s 12ms/step\n"
     ]
    },
    {
     "data": {
      "text/plain": [
       "array([26.559778], dtype=float32)"
      ]
     },
     "execution_count": 94,
     "metadata": {},
     "output_type": "execute_result"
    }
   ],
   "source": [
    "y_predicted = model.predict(X_test)\n",
    "y_predicted[0]"
   ]
  },
  {
   "cell_type": "code",
   "execution_count": 95,
   "id": "77d82fa2-4a3c-4330-9a08-230112613391",
   "metadata": {},
   "outputs": [
    {
     "data": {
      "text/plain": [
       "0.6969222012215761"
      ]
     },
     "execution_count": 95,
     "metadata": {},
     "output_type": "execute_result"
    }
   ],
   "source": [
    "r2_score(y_test, y_predicted)"
   ]
  },
  {
   "cell_type": "markdown",
   "id": "d931474b-d17d-4bcb-b639-51feafbf7bd2",
   "metadata": {},
   "source": [
    "Reasonable performance for models evaluated using Mean Squared Error (MSE) is around 20 in thousands of dollars squared (or $4,500 if you take the square root). This is a nice target to aim for with our neural network model.\n"
   ]
  },
  {
   "cell_type": "markdown",
   "id": "728e3d4e-d8ff-416f-b089-4c39b303da57",
   "metadata": {},
   "source": [
    "___\n",
    "## Trying scaling data:"
   ]
  },
  {
   "cell_type": "code",
   "execution_count": 96,
   "id": "35a6c51f-bc4c-45fc-b3af-709079901224",
   "metadata": {},
   "outputs": [],
   "source": [
    "# Try the scaling with StandardScaling\n",
    "scaler = StandardScaler()\n",
    "scaler.fit(X_train)\n",
    "X_train = scaler.transform(X_train)\n",
    "X_test = scaler.transform(X_test)"
   ]
  },
  {
   "cell_type": "code",
   "execution_count": 97,
   "id": "a42bc5de-2bc7-4c28-94f3-96935715a589",
   "metadata": {},
   "outputs": [],
   "source": [
    "# create model\n",
    "model = Sequential()\n",
    "\n",
    "model.add(keras.Input(shape=(13)))\n",
    "model.add(Dense(units=13,activation='relu',name='dense_2'))\n",
    "model.add(Dense(units=1,name='dense_3'))"
   ]
  },
  {
   "cell_type": "code",
   "execution_count": 98,
   "id": "abd9e63e-7534-4349-b36e-d3a3404ad995",
   "metadata": {},
   "outputs": [
    {
     "name": "stdout",
     "output_type": "stream",
     "text": [
      "Model: \"sequential_9\"\n",
      "_________________________________________________________________\n",
      " Layer (type)                Output Shape              Param #   \n",
      "=================================================================\n",
      " dense_2 (Dense)             (None, 13)                182       \n",
      "                                                                 \n",
      " dense_3 (Dense)             (None, 1)                 14        \n",
      "                                                                 \n",
      "=================================================================\n",
      "Total params: 196 (784.00 Byte)\n",
      "Trainable params: 196 (784.00 Byte)\n",
      "Non-trainable params: 0 (0.00 Byte)\n",
      "_________________________________________________________________\n"
     ]
    }
   ],
   "source": [
    "model.summary()"
   ]
  },
  {
   "cell_type": "code",
   "execution_count": 99,
   "id": "996ae6e5-8635-43b8-be8a-321ec015c74c",
   "metadata": {},
   "outputs": [],
   "source": [
    "\n",
    "\n",
    "model.compile(optimizer=keras.optimizers.Adam(learning_rate=0.03),loss = 'mean_absolute_error')\n"
   ]
  },
  {
   "cell_type": "code",
   "execution_count": 100,
   "id": "b4453ddc-f6ce-48ef-9bc6-0b4debe2c5df",
   "metadata": {},
   "outputs": [
    {
     "name": "stdout",
     "output_type": "stream",
     "text": [
      "Epoch 1/75\n"
     ]
    },
    {
     "name": "stdout",
     "output_type": "stream",
     "text": [
      "26/26 [==============================] - 10s 44ms/step - loss: 17.9038\n",
      "Epoch 2/75\n",
      "26/26 [==============================] - 1s 58ms/step - loss: 6.5193\n",
      "Epoch 3/75\n",
      "26/26 [==============================] - 1s 44ms/step - loss: 4.2600\n",
      "Epoch 4/75\n",
      "26/26 [==============================] - 1s 25ms/step - loss: 3.6666\n",
      "Epoch 5/75\n",
      "26/26 [==============================] - 0s 14ms/step - loss: 3.0816\n",
      "Epoch 6/75\n",
      "26/26 [==============================] - 0s 12ms/step - loss: 3.0508\n",
      "Epoch 7/75\n",
      "26/26 [==============================] - 0s 10ms/step - loss: 2.7399\n",
      "Epoch 8/75\n",
      "26/26 [==============================] - 0s 11ms/step - loss: 2.5361\n",
      "Epoch 9/75\n",
      "26/26 [==============================] - 0s 13ms/step - loss: 2.5513\n",
      "Epoch 10/75\n",
      "26/26 [==============================] - 0s 10ms/step - loss: 2.4970\n",
      "Epoch 11/75\n",
      "26/26 [==============================] - 0s 10ms/step - loss: 2.6153\n",
      "Epoch 12/75\n",
      "26/26 [==============================] - 0s 11ms/step - loss: 2.3379\n",
      "Epoch 13/75\n",
      "26/26 [==============================] - 0s 10ms/step - loss: 2.4480\n",
      "Epoch 14/75\n",
      "26/26 [==============================] - 0s 9ms/step - loss: 2.4791\n",
      "Epoch 15/75\n",
      "26/26 [==============================] - 0s 9ms/step - loss: 2.3866\n",
      "Epoch 16/75\n",
      "26/26 [==============================] - 0s 8ms/step - loss: 2.3617\n",
      "Epoch 17/75\n",
      "26/26 [==============================] - 0s 9ms/step - loss: 2.2629\n",
      "Epoch 18/75\n",
      "26/26 [==============================] - 0s 8ms/step - loss: 2.3532\n",
      "Epoch 19/75\n",
      "26/26 [==============================] - 0s 9ms/step - loss: 2.3085\n",
      "Epoch 20/75\n",
      "26/26 [==============================] - 0s 8ms/step - loss: 2.3042\n",
      "Epoch 21/75\n",
      "26/26 [==============================] - 0s 19ms/step - loss: 2.1317\n",
      "Epoch 22/75\n",
      "26/26 [==============================] - 0s 15ms/step - loss: 2.1087\n",
      "Epoch 23/75\n",
      "26/26 [==============================] - 1s 27ms/step - loss: 2.3347\n",
      "Epoch 24/75\n",
      "26/26 [==============================] - 1s 34ms/step - loss: 2.1425\n",
      "Epoch 25/75\n",
      "26/26 [==============================] - 1s 24ms/step - loss: 2.0920\n",
      "Epoch 26/75\n",
      "26/26 [==============================] - 1s 22ms/step - loss: 2.2962\n",
      "Epoch 27/75\n",
      "26/26 [==============================] - 1s 25ms/step - loss: 2.1845\n",
      "Epoch 28/75\n",
      "26/26 [==============================] - 0s 17ms/step - loss: 2.2069\n",
      "Epoch 29/75\n",
      "26/26 [==============================] - 0s 10ms/step - loss: 2.2222\n",
      "Epoch 30/75\n",
      "26/26 [==============================] - 0s 9ms/step - loss: 2.1366\n",
      "Epoch 31/75\n",
      "26/26 [==============================] - 0s 11ms/step - loss: 2.1297\n",
      "Epoch 32/75\n",
      "26/26 [==============================] - 0s 12ms/step - loss: 1.9899\n",
      "Epoch 33/75\n",
      "26/26 [==============================] - 0s 18ms/step - loss: 2.1368\n",
      "Epoch 34/75\n",
      "26/26 [==============================] - 0s 11ms/step - loss: 1.9968\n",
      "Epoch 35/75\n",
      "26/26 [==============================] - 0s 11ms/step - loss: 2.0874\n",
      "Epoch 36/75\n",
      "26/26 [==============================] - 0s 11ms/step - loss: 2.1216\n",
      "Epoch 37/75\n",
      "26/26 [==============================] - 0s 15ms/step - loss: 2.2414\n",
      "Epoch 38/75\n",
      "26/26 [==============================] - 0s 8ms/step - loss: 2.0310\n",
      "Epoch 39/75\n",
      "26/26 [==============================] - 0s 19ms/step - loss: 2.0369\n",
      "Epoch 40/75\n",
      "26/26 [==============================] - 0s 9ms/step - loss: 1.9442\n",
      "Epoch 41/75\n",
      "26/26 [==============================] - 0s 18ms/step - loss: 1.9341\n",
      "Epoch 42/75\n",
      "26/26 [==============================] - 1s 21ms/step - loss: 2.1926\n",
      "Epoch 43/75\n",
      "26/26 [==============================] - 2s 69ms/step - loss: 2.1175\n",
      "Epoch 44/75\n",
      "26/26 [==============================] - 1s 40ms/step - loss: 2.1709\n",
      "Epoch 45/75\n",
      "26/26 [==============================] - 1s 20ms/step - loss: 1.9445\n",
      "Epoch 46/75\n",
      "26/26 [==============================] - 1s 27ms/step - loss: 1.9377\n",
      "Epoch 47/75\n",
      "26/26 [==============================] - 1s 46ms/step - loss: 1.9482\n",
      "Epoch 48/75\n",
      "26/26 [==============================] - 1s 30ms/step - loss: 2.0851\n",
      "Epoch 49/75\n",
      "26/26 [==============================] - 1s 36ms/step - loss: 1.9122\n",
      "Epoch 50/75\n",
      "26/26 [==============================] - 0s 19ms/step - loss: 2.0680\n",
      "Epoch 51/75\n",
      "26/26 [==============================] - 1s 21ms/step - loss: 2.0765\n",
      "Epoch 52/75\n",
      "26/26 [==============================] - 0s 18ms/step - loss: 1.9071\n",
      "Epoch 53/75\n",
      "26/26 [==============================] - 0s 16ms/step - loss: 2.0787\n",
      "Epoch 54/75\n",
      "26/26 [==============================] - 1s 21ms/step - loss: 2.0674\n",
      "Epoch 55/75\n",
      "26/26 [==============================] - 1s 35ms/step - loss: 1.9143\n",
      "Epoch 56/75\n",
      "26/26 [==============================] - 1s 34ms/step - loss: 1.8559\n",
      "Epoch 57/75\n",
      "26/26 [==============================] - 2s 64ms/step - loss: 1.9429\n",
      "Epoch 58/75\n",
      "26/26 [==============================] - 1s 43ms/step - loss: 1.9633\n",
      "Epoch 59/75\n",
      "26/26 [==============================] - 1s 36ms/step - loss: 1.8820\n",
      "Epoch 60/75\n",
      "26/26 [==============================] - 1s 48ms/step - loss: 2.0175\n",
      "Epoch 61/75\n",
      "26/26 [==============================] - 1s 36ms/step - loss: 1.8874\n",
      "Epoch 62/75\n",
      "26/26 [==============================] - 1s 24ms/step - loss: 1.9170\n",
      "Epoch 63/75\n",
      "26/26 [==============================] - 1s 22ms/step - loss: 1.9191\n",
      "Epoch 64/75\n",
      "26/26 [==============================] - 0s 19ms/step - loss: 1.8353\n",
      "Epoch 65/75\n",
      "26/26 [==============================] - 1s 21ms/step - loss: 1.7670\n",
      "Epoch 66/75\n",
      "26/26 [==============================] - 1s 27ms/step - loss: 1.9498\n",
      "Epoch 67/75\n",
      "26/26 [==============================] - 1s 27ms/step - loss: 1.8304\n",
      "Epoch 68/75\n",
      "26/26 [==============================] - 1s 23ms/step - loss: 1.8744\n",
      "Epoch 69/75\n",
      "26/26 [==============================] - 1s 47ms/step - loss: 1.8946\n",
      "Epoch 70/75\n",
      "26/26 [==============================] - 0s 18ms/step - loss: 1.8976\n",
      "Epoch 71/75\n",
      "26/26 [==============================] - 1s 29ms/step - loss: 1.8418\n",
      "Epoch 72/75\n",
      "26/26 [==============================] - 0s 17ms/step - loss: 1.8392\n",
      "Epoch 73/75\n",
      "26/26 [==============================] - 0s 16ms/step - loss: 1.8164\n",
      "Epoch 74/75\n",
      "26/26 [==============================] - 0s 13ms/step - loss: 1.9076\n",
      "Epoch 75/75\n",
      "26/26 [==============================] - 0s 19ms/step - loss: 1.7274\n"
     ]
    },
    {
     "data": {
      "text/plain": [
       "<keras.src.callbacks.History at 0x250d0dd7fd0>"
      ]
     },
     "execution_count": 100,
     "metadata": {},
     "output_type": "execute_result"
    }
   ],
   "source": [
    "# model.fit(x_train, y_train, batch_size=32, epochs=5, verbose=1)\n",
    "model.fit(X_train, y_train, batch_size=16, epochs=75, verbose=1)"
   ]
  },
  {
   "cell_type": "markdown",
   "id": "d9fbd1bf-1f82-4bc1-9eb7-01f54952f3a7",
   "metadata": {},
   "source": [
    "**Print model evaluation**"
   ]
  },
  {
   "cell_type": "code",
   "execution_count": 101,
   "id": "9f21023d-692e-4463-bd75-2eb7eb5d627a",
   "metadata": {},
   "outputs": [
    {
     "name": "stdout",
     "output_type": "stream",
     "text": [
      "13/13 [==============================] - 1s 16ms/step - loss: 1.6481\n"
     ]
    },
    {
     "data": {
      "text/plain": [
       "1.6480976343154907"
      ]
     },
     "execution_count": 101,
     "metadata": {},
     "output_type": "execute_result"
    }
   ],
   "source": [
    "model.evaluate(X_train, y_train, batch_size=32, verbose=1)"
   ]
  },
  {
   "cell_type": "code",
   "execution_count": 102,
   "id": "15ae9c0d-2b50-44f8-a747-77653c88386f",
   "metadata": {},
   "outputs": [
    {
     "name": "stdout",
     "output_type": "stream",
     "text": [
      "4/4 [==============================] - 1s 8ms/step - loss: 2.2930\n"
     ]
    },
    {
     "data": {
      "text/plain": [
       "2.2929890155792236"
      ]
     },
     "execution_count": 102,
     "metadata": {},
     "output_type": "execute_result"
    }
   ],
   "source": [
    "model.evaluate(X_test, y_test, batch_size=32, verbose=1)"
   ]
  },
  {
   "cell_type": "markdown",
   "id": "66c51ef3-24f4-40c6-8ab6-fd46cbb824f9",
   "metadata": {},
   "source": [
    "**Calculate the R-Squared score for the model**"
   ]
  },
  {
   "cell_type": "code",
   "execution_count": 103,
   "id": "75e46fae-79ee-4f75-8f2d-6be3938073f4",
   "metadata": {},
   "outputs": [
    {
     "name": "stdout",
     "output_type": "stream",
     "text": [
      "4/4 [==============================] - 0s 10ms/step\n"
     ]
    },
    {
     "data": {
      "text/plain": [
       "array([25.136093], dtype=float32)"
      ]
     },
     "execution_count": 103,
     "metadata": {},
     "output_type": "execute_result"
    }
   ],
   "source": [
    "y_predicted = model.predict(X_test)\n",
    "y_predicted[0]"
   ]
  },
  {
   "cell_type": "code",
   "execution_count": 104,
   "id": "dec249b0-3bc3-4363-b073-928c532d1029",
   "metadata": {},
   "outputs": [
    {
     "data": {
      "text/plain": [
       "0.8412980556180473"
      ]
     },
     "execution_count": 104,
     "metadata": {},
     "output_type": "execute_result"
    }
   ],
   "source": [
    "r2_score(y_test, y_predicted)"
   ]
  },
  {
   "cell_type": "markdown",
   "id": "a541c5c0-7dc7-456c-8e19-5aafaeb3346d",
   "metadata": {},
   "source": [
    "---\n",
    "## Build a deeper model:"
   ]
  },
  {
   "cell_type": "code",
   "execution_count": null,
   "id": "57a7878d-c95d-4da9-981c-11fac4b81d96",
   "metadata": {},
   "outputs": [],
   "source": [
    "# create model\n",
    "\n",
    "\n"
   ]
  },
  {
   "cell_type": "code",
   "execution_count": null,
   "id": "cf2f9e35-2400-4e54-934d-a8ae8c80c767",
   "metadata": {},
   "outputs": [
    {
     "name": "stdout",
     "output_type": "stream",
     "text": [
      "Model: \"sequential_9\"\n",
      "_________________________________________________________________\n",
      " Layer (type)                Output Shape              Param #   \n",
      "=================================================================\n",
      " dense_6 (Dense)             (None, 13)                182       \n",
      "                                                                 \n",
      " dense_7 (Dense)             (None, 6)                 84        \n",
      "                                                                 \n",
      " dense_8 (Dense)             (None, 1)                 7         \n",
      "                                                                 \n",
      "=================================================================\n",
      "Total params: 273\n",
      "Trainable params: 273\n",
      "Non-trainable params: 0\n",
      "_________________________________________________________________\n"
     ]
    }
   ],
   "source": [
    "model.summary()"
   ]
  },
  {
   "cell_type": "code",
   "execution_count": null,
   "id": "b15f0ce7-47ac-442e-9221-3687d43da9cf",
   "metadata": {},
   "outputs": [],
   "source": [
    "\n",
    "\n",
    "\n"
   ]
  },
  {
   "cell_type": "code",
   "execution_count": null,
   "id": "b9d88880-1c54-4dac-9e40-8a8c1f92efb2",
   "metadata": {},
   "outputs": [
    {
     "data": {
      "text/plain": [
       "<keras.callbacks.History at 0x7f933cd144f0>"
      ]
     },
     "execution_count": 86,
     "metadata": {},
     "output_type": "execute_result"
    }
   ],
   "source": [
    "# model.fit(x_train, y_train, batch_size=32, epochs=5, verbose=1)\n",
    "model.fit(X_train, y_train, batch_size=5, epochs=50, verbose=0)"
   ]
  },
  {
   "cell_type": "markdown",
   "id": "215f0988-d64c-449e-9160-36844a2cb4b3",
   "metadata": {},
   "source": [
    "**Print model evaluation**"
   ]
  },
  {
   "cell_type": "code",
   "execution_count": null,
   "id": "9f44dc75-a874-4eea-a0c3-b1f3307a0b6b",
   "metadata": {},
   "outputs": [
    {
     "name": "stdout",
     "output_type": "stream",
     "text": [
      "13/13 [==============================] - 0s 2ms/step - loss: 7.8861 - mean_squared_error: 7.8861\n"
     ]
    },
    {
     "data": {
      "text/plain": [
       "[7.886094570159912, 7.886094570159912]"
      ]
     },
     "execution_count": 87,
     "metadata": {},
     "output_type": "execute_result"
    }
   ],
   "source": [
    "model.evaluate(X_train, y_train, batch_size=32, verbose=1)"
   ]
  },
  {
   "cell_type": "code",
   "execution_count": null,
   "id": "c75468be-d679-42a2-9823-295f60582d7e",
   "metadata": {},
   "outputs": [
    {
     "name": "stdout",
     "output_type": "stream",
     "text": [
      "4/4 [==============================] - 0s 3ms/step - loss: 11.6247 - mean_squared_error: 11.6247\n"
     ]
    },
    {
     "data": {
      "text/plain": [
       "[11.624679565429688, 11.624679565429688]"
      ]
     },
     "execution_count": 88,
     "metadata": {},
     "output_type": "execute_result"
    }
   ],
   "source": [
    "model.evaluate(X_test, y_test, batch_size=32, verbose=1)"
   ]
  },
  {
   "cell_type": "markdown",
   "id": "7c007df6-75dc-4109-bb62-809683e2d6c9",
   "metadata": {},
   "source": [
    "**Calculate the R-Squared score for the model**"
   ]
  },
  {
   "cell_type": "code",
   "execution_count": null,
   "id": "206bcb79-11d4-4494-8d08-42c81d6c1994",
   "metadata": {},
   "outputs": [
    {
     "name": "stdout",
     "output_type": "stream",
     "text": [
      "4/4 [==============================] - 0s 2ms/step\n"
     ]
    },
    {
     "data": {
      "text/plain": [
       "array([23.989002], dtype=float32)"
      ]
     },
     "execution_count": 123,
     "metadata": {},
     "output_type": "execute_result"
    }
   ],
   "source": [
    "y_predicted = model.predict(X_test)\n",
    "y_predicted[0]"
   ]
  },
  {
   "cell_type": "code",
   "execution_count": null,
   "id": "8f0a0ebe-889f-4308-bdb4-4284b46b6018",
   "metadata": {},
   "outputs": [
    {
     "data": {
      "text/plain": [
       "0.8343883345278527"
      ]
     },
     "execution_count": 124,
     "metadata": {},
     "output_type": "execute_result"
    }
   ],
   "source": [
    "r2_score(y_test, y_predicted)"
   ]
  },
  {
   "cell_type": "markdown",
   "id": "4ec9c2ec-454a-43ce-94a2-d2a5fe905157",
   "metadata": {},
   "source": [
    "---\n",
    "## try MinMaxScaler"
   ]
  },
  {
   "cell_type": "code",
   "execution_count": null,
   "id": "7b6264ab-624a-48e6-bf1e-7076c5bee68e",
   "metadata": {},
   "outputs": [],
   "source": [
    "scaler = MinMaxScaler()\n",
    "X_train = \n",
    "X_test = "
   ]
  },
  {
   "cell_type": "code",
   "execution_count": null,
   "id": "60a012f6-345d-47ff-b5c3-8a9ebf79773e",
   "metadata": {},
   "outputs": [],
   "source": [
    "# create model\n",
    "\n",
    "\n"
   ]
  },
  {
   "cell_type": "code",
   "execution_count": null,
   "id": "10d0798d-eff9-4c40-b979-02eba1299d57",
   "metadata": {},
   "outputs": [
    {
     "name": "stdout",
     "output_type": "stream",
     "text": [
      "Model: \"sequential_12\"\n",
      "_________________________________________________________________\n",
      " Layer (type)                Output Shape              Param #   \n",
      "=================================================================\n",
      " dense_14 (Dense)            (None, 13)                182       \n",
      "                                                                 \n",
      " dense_15 (Dense)            (None, 6)                 84        \n",
      "                                                                 \n",
      " dense_16 (Dense)            (None, 1)                 7         \n",
      "                                                                 \n",
      "=================================================================\n",
      "Total params: 273\n",
      "Trainable params: 273\n",
      "Non-trainable params: 0\n",
      "_________________________________________________________________\n"
     ]
    }
   ],
   "source": [
    "model.summary()"
   ]
  },
  {
   "cell_type": "code",
   "execution_count": null,
   "id": "9364cb82-2513-4154-bda2-27268474930c",
   "metadata": {},
   "outputs": [],
   "source": [
    "\n",
    "\n",
    "\n"
   ]
  },
  {
   "cell_type": "code",
   "execution_count": null,
   "id": "0c4020da-06b7-4b78-a85e-70c325f6ae29",
   "metadata": {},
   "outputs": [
    {
     "data": {
      "text/plain": [
       "<keras.callbacks.History at 0x7f931823b040>"
      ]
     },
     "execution_count": 120,
     "metadata": {},
     "output_type": "execute_result"
    }
   ],
   "source": [
    "# model.fit(x_train, y_train, batch_size=32, epochs=5, verbose=1)\n",
    "model.fit(X_train, y_train, batch_size=5, epochs=50, verbose=0)"
   ]
  },
  {
   "cell_type": "markdown",
   "id": "4dede981-f2c1-4c22-b67d-de1368dcb636",
   "metadata": {},
   "source": [
    "**Print model evaluation**"
   ]
  },
  {
   "cell_type": "code",
   "execution_count": null,
   "id": "24729daa-40c2-4a1c-ac1a-6ffe2742727a",
   "metadata": {},
   "outputs": [
    {
     "name": "stdout",
     "output_type": "stream",
     "text": [
      "13/13 [==============================] - 0s 1ms/step - loss: 11.0666 - mean_squared_error: 11.0666\n"
     ]
    },
    {
     "data": {
      "text/plain": [
       "[11.066582679748535, 11.066582679748535]"
      ]
     },
     "execution_count": 121,
     "metadata": {},
     "output_type": "execute_result"
    }
   ],
   "source": [
    "model.evaluate(X_train, y_train, batch_size=32, verbose=1)"
   ]
  },
  {
   "cell_type": "code",
   "execution_count": null,
   "id": "8bef0bc6-255e-42d5-8e87-cea93b3fc5ad",
   "metadata": {},
   "outputs": [
    {
     "name": "stdout",
     "output_type": "stream",
     "text": [
      "4/4 [==============================] - 0s 3ms/step - loss: 12.1449 - mean_squared_error: 12.1449\n"
     ]
    },
    {
     "data": {
      "text/plain": [
       "[12.144929885864258, 12.144929885864258]"
      ]
     },
     "execution_count": 122,
     "metadata": {},
     "output_type": "execute_result"
    }
   ],
   "source": [
    "model.evaluate(X_test, y_test, batch_size=32, verbose=1)"
   ]
  },
  {
   "cell_type": "markdown",
   "id": "6943fb2f-2ed5-42f3-bb02-7dc3b05af583",
   "metadata": {},
   "source": [
    "**Calculate the R-Squared score for the model**"
   ]
  },
  {
   "cell_type": "code",
   "execution_count": null,
   "id": "f3e52e94-9786-4fc2-88c7-58ab0d1a4eaf",
   "metadata": {},
   "outputs": [
    {
     "name": "stdout",
     "output_type": "stream",
     "text": [
      "4/4 [==============================] - 0s 2ms/step\n"
     ]
    },
    {
     "data": {
      "text/plain": [
       "array([23.989002], dtype=float32)"
      ]
     },
     "execution_count": 123,
     "metadata": {},
     "output_type": "execute_result"
    }
   ],
   "source": [
    "y_predicted = model.predict(X_test)\n",
    "y_predicted[0]"
   ]
  },
  {
   "cell_type": "code",
   "execution_count": null,
   "id": "7626d66b-347a-468c-844c-46a609f19729",
   "metadata": {},
   "outputs": [
    {
     "data": {
      "text/plain": [
       "0.8343883345278527"
      ]
     },
     "execution_count": 124,
     "metadata": {},
     "output_type": "execute_result"
    }
   ],
   "source": [
    "r2_score(y_test, y_predicted)"
   ]
  },
  {
   "cell_type": "markdown",
   "id": "e2e257a8-4f83-435c-bd78-cf291536cec8",
   "metadata": {},
   "source": [
    "---\n",
    "## Try a wider model**"
   ]
  },
  {
   "cell_type": "code",
   "execution_count": null,
   "id": "ff978385-73aa-414f-88d4-a890ad853f39",
   "metadata": {},
   "outputs": [],
   "source": [
    "# create model\n",
    "\n",
    "\n"
   ]
  },
  {
   "cell_type": "code",
   "execution_count": null,
   "id": "b747e666-5081-4116-ab7e-26dbd703c0a9",
   "metadata": {},
   "outputs": [
    {
     "name": "stdout",
     "output_type": "stream",
     "text": [
      "Model: \"sequential_11\"\n",
      "_________________________________________________________________\n",
      " Layer (type)                Output Shape              Param #   \n",
      "=================================================================\n",
      " dense_12 (Dense)            (None, 20)                280       \n",
      "                                                                 \n",
      " dense_13 (Dense)            (None, 1)                 21        \n",
      "                                                                 \n",
      "=================================================================\n",
      "Total params: 301\n",
      "Trainable params: 301\n",
      "Non-trainable params: 0\n",
      "_________________________________________________________________\n"
     ]
    }
   ],
   "source": [
    "model.summary()"
   ]
  },
  {
   "cell_type": "code",
   "execution_count": null,
   "id": "baf17f91-72e4-488f-8876-113c2c1b94e2",
   "metadata": {},
   "outputs": [],
   "source": [
    "\n",
    "\n",
    "\n"
   ]
  },
  {
   "cell_type": "code",
   "execution_count": null,
   "id": "825d8724-3b02-4107-921b-a0e54c13ed97",
   "metadata": {},
   "outputs": [
    {
     "data": {
      "text/plain": [
       "<keras.callbacks.History at 0x7f9318715540>"
      ]
     },
     "execution_count": 103,
     "metadata": {},
     "output_type": "execute_result"
    }
   ],
   "source": [
    "# model.fit(x_train, y_train, batch_size=32, epochs=5, verbose=1)\n",
    "model.fit(X_train, y_train, batch_size=5, epochs=50, verbose=0)"
   ]
  },
  {
   "cell_type": "markdown",
   "id": "3d56bfdb-880c-4439-8ecc-5059f0ae3ebb",
   "metadata": {},
   "source": [
    "**Print model evaluation**"
   ]
  },
  {
   "cell_type": "code",
   "execution_count": null,
   "id": "2785784f-e9a7-45fc-859d-79e9573d886d",
   "metadata": {},
   "outputs": [
    {
     "name": "stdout",
     "output_type": "stream",
     "text": [
      "13/13 [==============================] - 0s 2ms/step - loss: 8.3818 - mean_squared_error: 8.3818\n"
     ]
    },
    {
     "data": {
      "text/plain": [
       "[8.381789207458496, 8.381789207458496]"
      ]
     },
     "execution_count": 104,
     "metadata": {},
     "output_type": "execute_result"
    }
   ],
   "source": [
    "model.evaluate(X_train, y_train, batch_size=32, verbose=1)"
   ]
  },
  {
   "cell_type": "code",
   "execution_count": null,
   "id": "b161a40d-156d-49b7-bec4-aab2875a844a",
   "metadata": {},
   "outputs": [
    {
     "name": "stdout",
     "output_type": "stream",
     "text": [
      "4/4 [==============================] - 0s 3ms/step - loss: 11.7419 - mean_squared_error: 11.7419\n"
     ]
    },
    {
     "data": {
      "text/plain": [
       "[11.741930961608887, 11.74193000793457]"
      ]
     },
     "execution_count": 105,
     "metadata": {},
     "output_type": "execute_result"
    }
   ],
   "source": [
    "model.evaluate(X_test, y_test, batch_size=32, verbose=1)"
   ]
  },
  {
   "cell_type": "markdown",
   "id": "2ae4fb48-1863-4959-8d85-6eb9169d54a6",
   "metadata": {},
   "source": [
    "**Calculate the R-Squared score for the model**"
   ]
  },
  {
   "cell_type": "code",
   "execution_count": null,
   "id": "0612d2f4-6227-40a1-b538-8805fdc3bb86",
   "metadata": {},
   "outputs": [
    {
     "name": "stdout",
     "output_type": "stream",
     "text": [
      "4/4 [==============================] - 0s 2ms/step\n"
     ]
    },
    {
     "data": {
      "text/plain": [
       "array([23.989002], dtype=float32)"
      ]
     },
     "execution_count": 123,
     "metadata": {},
     "output_type": "execute_result"
    }
   ],
   "source": [
    "y_predicted = model.predict(X_test)\n",
    "y_predicted[0]"
   ]
  },
  {
   "cell_type": "code",
   "execution_count": null,
   "id": "2730742c-3b3b-467c-b1fc-3f15479c7c3c",
   "metadata": {},
   "outputs": [
    {
     "data": {
      "text/plain": [
       "0.8343883345278527"
      ]
     },
     "execution_count": 124,
     "metadata": {},
     "output_type": "execute_result"
    }
   ],
   "source": [
    "r2_score(y_test, y_predicted)"
   ]
  },
  {
   "cell_type": "code",
   "execution_count": null,
   "id": "673e7314-42fc-46df-bd2d-02a0bfb5d460",
   "metadata": {},
   "outputs": [],
   "source": []
  }
 ],
 "metadata": {
  "kernelspec": {
   "display_name": "Python 3 (ipykernel)",
   "language": "python",
   "name": "python3"
  },
  "language_info": {
   "codemirror_mode": {
    "name": "ipython",
    "version": 3
   },
   "file_extension": ".py",
   "mimetype": "text/x-python",
   "name": "python",
   "nbconvert_exporter": "python",
   "pygments_lexer": "ipython3",
   "version": "3.11.4"
  }
 },
 "nbformat": 4,
 "nbformat_minor": 5
}
